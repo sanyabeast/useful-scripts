{
 "cells": [
  {
   "cell_type": "code",
   "execution_count": 16,
   "metadata": {},
   "outputs": [],
   "source": [
    "import os"
   ]
  },
  {
   "cell_type": "code",
   "execution_count": 19,
   "metadata": {},
   "outputs": [],
   "source": [
    "path = \"F:\\Archive\\Pictures\""
   ]
  },
  {
   "cell_type": "code",
   "execution_count": 20,
   "metadata": {},
   "outputs": [
    {
     "name": "stdout",
     "output_type": "stream",
     "text": [
      "items processed: 0\n"
     ]
    }
   ],
   "source": [
    "count = 0\n",
    "for root, dirs, files in os.walk(path):\n",
    "    for file in files:\n",
    "        p=os.path.join(root,file)\n",
    "        if (p.endswith('.jfif')):\n",
    "            os.rename(p, p.replace('.jfif', '.jpg'))\n",
    "            print(f\"jfif fixed: {p}\")\n",
    "            count+=1\n",
    "        \n",
    "\n",
    "print(f\"items processed: {count}\")"
   ]
  }
 ],
 "metadata": {
  "kernelspec": {
   "display_name": "Python 3",
   "language": "python",
   "name": "python3"
  },
  "language_info": {
   "codemirror_mode": {
    "name": "ipython",
    "version": 3
   },
   "file_extension": ".py",
   "mimetype": "text/x-python",
   "name": "python",
   "nbconvert_exporter": "python",
   "pygments_lexer": "ipython3",
   "version": "3.10.6"
  },
  "orig_nbformat": 4,
  "vscode": {
   "interpreter": {
    "hash": "369f2c481f4da34e4445cda3fffd2e751bd1c4d706f27375911949ba6bb62e1c"
   }
  }
 },
 "nbformat": 4,
 "nbformat_minor": 2
}
