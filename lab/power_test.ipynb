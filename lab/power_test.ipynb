{
 "cells": [
  {
   "cell_type": "code",
   "execution_count": 2,
   "metadata": {},
   "outputs": [],
   "source": [
    "import dbus"
   ]
  },
  {
   "cell_type": "code",
   "execution_count": 3,
   "metadata": {},
   "outputs": [
    {
     "ename": "ValueError",
     "evalue": "Invalid bus name 'org xfce power manager': contains invalid character ' '",
     "output_type": "error",
     "traceback": [
      "\u001b[0;31m---------------------------------------------------------------------------\u001b[0m",
      "\u001b[0;31mValueError\u001b[0m                                Traceback (most recent call last)",
      "Cell \u001b[0;32mIn[3], line 2\u001b[0m\n\u001b[1;32m      1\u001b[0m bus \u001b[39m=\u001b[39m dbus\u001b[39m.\u001b[39mSessionBus()\n\u001b[0;32m----> 2\u001b[0m proxy \u001b[39m=\u001b[39m bus\u001b[39m.\u001b[39;49mget_object(\u001b[39m'\u001b[39;49m\u001b[39morg xfce power manager\u001b[39;49m\u001b[39m'\u001b[39;49m,\u001b[39m'\u001b[39;49m\u001b[39m/org/xfce/PowerManager\u001b[39;49m\u001b[39m'\u001b[39;49m)\n\u001b[1;32m      3\u001b[0m iface \u001b[39m=\u001b[39m dbus\u001b[39m.\u001b[39mInterface(proxy, \u001b[39m'\u001b[39m\u001b[39morg.xfce.Power.Manager\u001b[39m\u001b[39m'\u001b[39m)\n\u001b[1;32m      4\u001b[0m sleep_time \u001b[39m=\u001b[39m iface\u001b[39m.\u001b[39mGetDisplaySleepTime()\n",
      "File \u001b[0;32m/usr/lib/python3/dist-packages/dbus/bus.py:241\u001b[0m, in \u001b[0;36mBusConnection.get_object\u001b[0;34m(self, bus_name, object_path, introspect, follow_name_owner_changes, **kwargs)\u001b[0m\n\u001b[1;32m    237\u001b[0m \u001b[39mif\u001b[39;00m kwargs:\n\u001b[1;32m    238\u001b[0m     \u001b[39mraise\u001b[39;00m \u001b[39mTypeError\u001b[39;00m(\u001b[39m'\u001b[39m\u001b[39mget_object does not take these keyword \u001b[39m\u001b[39m'\u001b[39m\n\u001b[1;32m    239\u001b[0m                     \u001b[39m'\u001b[39m\u001b[39marguments: \u001b[39m\u001b[39m%s\u001b[39;00m\u001b[39m'\u001b[39m \u001b[39m%\u001b[39m \u001b[39m'\u001b[39m\u001b[39m, \u001b[39m\u001b[39m'\u001b[39m\u001b[39m.\u001b[39mjoin(kwargs\u001b[39m.\u001b[39mkeys()))\n\u001b[0;32m--> 241\u001b[0m \u001b[39mreturn\u001b[39;00m \u001b[39mself\u001b[39;49m\u001b[39m.\u001b[39;49mProxyObjectClass(\u001b[39mself\u001b[39;49m, bus_name, object_path,\n\u001b[1;32m    242\u001b[0m                              introspect\u001b[39m=\u001b[39;49mintrospect,\n\u001b[1;32m    243\u001b[0m                              follow_name_owner_changes\u001b[39m=\u001b[39;49mfollow_name_owner_changes)\n",
      "File \u001b[0;32m/usr/lib/python3/dist-packages/dbus/proxies.py:241\u001b[0m, in \u001b[0;36mProxyObject.__init__\u001b[0;34m(self, conn, bus_name, object_path, introspect, follow_name_owner_changes, **kwargs)\u001b[0m\n\u001b[1;32m    238\u001b[0m \u001b[39mself\u001b[39m\u001b[39m.\u001b[39m_bus \u001b[39m=\u001b[39m conn\n\u001b[1;32m    240\u001b[0m \u001b[39mif\u001b[39;00m bus_name \u001b[39mis\u001b[39;00m \u001b[39mnot\u001b[39;00m \u001b[39mNone\u001b[39;00m:\n\u001b[0;32m--> 241\u001b[0m     _dbus_bindings\u001b[39m.\u001b[39;49mvalidate_bus_name(bus_name)\n\u001b[1;32m    242\u001b[0m \u001b[39m# the attribute is still called _named_service for the moment,\u001b[39;00m\n\u001b[1;32m    243\u001b[0m \u001b[39m# for the benefit of telepathy-python\u001b[39;00m\n\u001b[1;32m    244\u001b[0m \u001b[39mself\u001b[39m\u001b[39m.\u001b[39m_named_service \u001b[39m=\u001b[39m \u001b[39mself\u001b[39m\u001b[39m.\u001b[39m_requested_bus_name \u001b[39m=\u001b[39m bus_name\n",
      "\u001b[0;31mValueError\u001b[0m: Invalid bus name 'org xfce power manager': contains invalid character ' '"
     ]
    }
   ],
   "source": [
    "bus = dbus.SessionBus()\n",
    "proxy = bus.get_object('org.xfce.PowerManager', '/org/xfce/PowerManager')\n",
    "iface = dbus.Interface(proxy, 'org.xfce.Power.Manager')\n",
    "sleep_time = iface.GetDisplaySleepTime()\n",
    "print(f'Час до засинання: {sleep_time / 60} хвилин')"
   ]
  }
 ],
 "metadata": {
  "kernelspec": {
   "display_name": "Python 3",
   "language": "python",
   "name": "python3"
  },
  "language_info": {
   "codemirror_mode": {
    "name": "ipython",
    "version": 3
   },
   "file_extension": ".py",
   "mimetype": "text/x-python",
   "name": "python",
   "nbconvert_exporter": "python",
   "pygments_lexer": "ipython3",
   "version": "3.10.7"
  },
  "orig_nbformat": 4
 },
 "nbformat": 4,
 "nbformat_minor": 2
}
