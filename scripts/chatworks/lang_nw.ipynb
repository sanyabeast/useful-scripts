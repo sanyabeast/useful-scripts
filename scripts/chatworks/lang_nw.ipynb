{
 "cells": [
  {
   "cell_type": "code",
   "execution_count": 25,
   "metadata": {},
   "outputs": [],
   "source": [
    "from keras.models import Sequential\n",
    "from keras.layers import Dense\n",
    "import math\n"
   ]
  },
  {
   "cell_type": "code",
   "execution_count": 26,
   "metadata": {},
   "outputs": [],
   "source": [
    "def process_text(text):\n",
    "    # проверяем длину строки и обрезаем ее при необходимости\n",
    "    if len(text) > 8:\n",
    "        text = text[:8]\n",
    "    # заполняем пустоты в строке, если она короче 8 символов\n",
    "    elif len(text) < 8:\n",
    "        text = text + ' '*(8 - len(text))\n",
    "    return text\n",
    "\n",
    "def text_to_numeric_array(text):\n",
    "    text = process_text(text=text)\n",
    "    numeric_array = [ord(char) for char in text]\n",
    "    return numeric_array\n",
    "\n",
    "def numeric_array_to_text(numeric_array):\n",
    "    text = ''.join([chr(round(num) if num < 0x10ffff and num > 0 else 32) for num in numeric_array])\n",
    "    return text"
   ]
  },
  {
   "cell_type": "code",
   "execution_count": null,
   "metadata": {},
   "outputs": [],
   "source": []
  },
  {
   "cell_type": "code",
   "execution_count": 34,
   "metadata": {},
   "outputs": [
    {
     "name": "stdout",
     "output_type": "stream",
     "text": [
      "1/1 [==============================] - 0s 39ms/step\n",
      "     \u0001  \n"
     ]
    }
   ],
   "source": [
    "from keras.models import Sequential, Model\n",
    "from keras.layers import Dense, Input\n",
    "\n",
    "input_layer = Input(shape=(8,))\n",
    "\n",
    "# Определяем первый промежуточный слой с 16 нейронами и функцией активации relu\n",
    "hidden_layer1 = Dense(16, activation='relu')(input_layer)\n",
    "\n",
    "# Определяем второй промежуточный слой с 32 нейронами и функцией активации relu\n",
    "hidden_layer2 = Dense(32, activation='relu')(hidden_layer1)\n",
    "\n",
    "# Добавляем выходной слой с 8 нейронами и функцией активации linear\n",
    "output_layer = Dense(8, activation='softmax')(hidden_layer2)\n",
    "\n",
    "# Создаем модель, указав входной и выходной слои\n",
    "model = Model(inputs=input_layer, outputs=output_layer)\n",
    "\n",
    "\n",
    "# Компилируем модель с функцией потерь MSE и оптимизатором Adam\n",
    "model.compile(loss='mean_squared_error', optimizer='adam')\n",
    "\n",
    "# Обучаем модель на данных\n",
    "X = [text_to_numeric_array(\"apple\"), text_to_numeric_array(\"juice\"), text_to_numeric_array(\"love\")]\n",
    "Y = [text_to_numeric_array(\"yabluko\"), text_to_numeric_array(\"sik\"), text_to_numeric_array(\"kohanie\")]\n",
    "model.fit(X, Y, epochs=1000, verbose=0)\n",
    "\n",
    "# Прогнозируем результат для новых данных\n",
    "result = model.predict([text_to_numeric_array(\"apple\")])\n",
    "for k in result:\n",
    "    print(numeric_array_to_text(k))\n"
   ]
  }
 ],
 "metadata": {
  "kernelspec": {
   "display_name": "Python 3",
   "language": "python",
   "name": "python3"
  },
  "language_info": {
   "codemirror_mode": {
    "name": "ipython",
    "version": 3
   },
   "file_extension": ".py",
   "mimetype": "text/x-python",
   "name": "python",
   "nbconvert_exporter": "python",
   "pygments_lexer": "ipython3",
   "version": "3.10.6"
  },
  "orig_nbformat": 4
 },
 "nbformat": 4,
 "nbformat_minor": 2
}
